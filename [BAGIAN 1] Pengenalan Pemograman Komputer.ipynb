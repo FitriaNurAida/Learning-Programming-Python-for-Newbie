{
 "cells": [
  {
   "cell_type": "markdown",
   "metadata": {},
   "source": [
    "# BAGIAN 1"
   ]
  },
  {
   "cell_type": "markdown",
   "metadata": {},
   "source": [
    "## Pengenalan Pemograman Computer"
   ]
  },
  {
   "cell_type": "markdown",
   "metadata": {},
   "source": [
    "### Pilar Pemikiran Komputasi\n",
    "- dekomposisi     : proses pemecahan masalah yang besar menjadi masalah-masalah yang lebih kecil\n",
    "- pengenalan pola : adakah pola-pola permasalahan kecil yang sama, mengelompokkan permasalahan-  permasalahan yang memiliki pola yang sama\n",
    "- abstraksi       : mengurangi hal-hal yang tidak diperlukan dalam permasalahan tersebut karena masih bisa dikendalikan\n",
    "- algoritma       : langkah-langkah untuk memecahkan masalah tersebut"
   ]
  },
  {
   "cell_type": "markdown",
   "metadata": {},
   "source": [
    "### Dasar Pemograman Komputer"
   ]
  },
  {
   "cell_type": "markdown",
   "metadata": {},
   "source": [
    "Sebuah program menjadikan komputer berguna. Tidak adanya program, komputer hanyalah sebuah objek. Komputer hanya dapat menajalankan operasi sederhana dengan sendirinya. Komputer dapat menjalankan tugas yang sangat kompleks tetapi tidak dengan sendirinya, misalnya mengevaluasi atau menjalankan operasi fungsi matematika yang rumit diperlukan suatu program yang mendefinisikan setiap unsur fungsi (instruksi) dan operasi aritmatika. Karena program tersebut merupakan bahasa yang dapat dipahami oleh komputer."
   ]
  },
  {
   "cell_type": "markdown",
   "metadata": {},
   "source": [
    "### Course Intetrface"
   ]
  },
  {
   "cell_type": "code",
   "execution_count": 1,
   "metadata": {},
   "outputs": [
    {
     "name": "stdout",
     "output_type": "stream",
     "text": [
      "Hello!\n"
     ]
    }
   ],
   "source": [
    "print(\"Hello!\")"
   ]
  },
  {
   "cell_type": "code",
   "execution_count": 2,
   "metadata": {},
   "outputs": [
    {
     "name": "stdout",
     "output_type": "stream",
     "text": [
      "Welcome to Python Essentials!\n"
     ]
    }
   ],
   "source": [
    "print(\"Welcome to Python Essentials!\")"
   ]
  },
  {
   "cell_type": "code",
   "execution_count": 4,
   "metadata": {},
   "outputs": [
    {
     "name": "stdout",
     "output_type": "stream",
     "text": [
      "THIS IS ME.\n"
     ]
    }
   ],
   "source": [
    "print(\"THIS IS ME.\")"
   ]
  },
  {
   "cell_type": "code",
   "execution_count": null,
   "metadata": {},
   "outputs": [],
   "source": []
  }
 ],
 "metadata": {
  "kernelspec": {
   "display_name": "Python 3",
   "language": "python",
   "name": "python3"
  },
  "language_info": {
   "codemirror_mode": {
    "name": "ipython",
    "version": 3
   },
   "file_extension": ".py",
   "mimetype": "text/x-python",
   "name": "python",
   "nbconvert_exporter": "python",
   "pygments_lexer": "ipython3",
   "version": "3.7.1"
  }
 },
 "nbformat": 4,
 "nbformat_minor": 2
}
