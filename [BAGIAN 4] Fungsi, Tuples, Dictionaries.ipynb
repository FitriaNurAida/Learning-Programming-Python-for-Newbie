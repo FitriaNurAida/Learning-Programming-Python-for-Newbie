{
 "cells": [
  {
   "cell_type": "markdown",
   "metadata": {},
   "source": [
    "# BAGIAN 4"
   ]
  },
  {
   "cell_type": "markdown",
   "metadata": {},
   "source": [
    "- Functions (Fungsi)\n",
    "- Tuples\n",
    "- Dictionaries\n",
    "- Pemrosesan Data (Data Processing)"
   ]
  },
  {
   "cell_type": "markdown",
   "metadata": {},
   "source": [
    "## Membuat Fungsi"
   ]
  },
  {
   "cell_type": "code",
   "execution_count": 1,
   "metadata": {},
   "outputs": [
    {
     "name": "stdout",
     "output_type": "stream",
     "text": [
      "Angka favorit :\n",
      "6\n",
      "Angka favorit :\n",
      "9\n"
     ]
    }
   ],
   "source": [
    "def pesan(): #def artinya define, pesan() merupakan nama fungsi\n",
    "    print(\"Angka favorit :\") #isi fungsi\n",
    "\n",
    "pesan() #memanggil fungsi\n",
    "x=int(input())\n",
    "pesan()\n",
    "y=int(input())"
   ]
  },
  {
   "cell_type": "code",
   "execution_count": 21,
   "metadata": {},
   "outputs": [
    {
     "name": "stdout",
     "output_type": "stream",
     "text": [
      "Siapa namamu? Fitria\n",
      "Namaku adalah  Fitria\n"
     ]
    }
   ],
   "source": [
    "def who(name): #nama adalah sebuah parameter\n",
    "    print(\"Namaku adalah \",nama)\n",
    "\n",
    "nama = input(\"Siapa namamu? \")\n",
    "who(nama) #memanggil fungsi"
   ]
  },
  {
   "cell_type": "code",
   "execution_count": 11,
   "metadata": {},
   "outputs": [
    {
     "name": "stdout",
     "output_type": "stream",
     "text": [
      "Namaku adalah Fitria Nur Aida biasanya dipanggil Fitria\n",
      "Namaku adalah Fitria Nur Aida biasanya dipanggil Fitria\n"
     ]
    }
   ],
   "source": [
    "def who(long, nick):\n",
    "    print(\"Namaku adalah\", long,\"biasanya dipanggil\", nick)\n",
    "\n",
    "who(\"Fitria Nur Aida\", \"Fitria\")\n",
    "who(\"Fitria Nur Aida\", nick=\"Fitria\")"
   ]
  },
  {
   "cell_type": "code",
   "execution_count": 14,
   "metadata": {},
   "outputs": [
    {
     "ename": "SyntaxError",
     "evalue": "positional argument follows keyword argument (<ipython-input-14-c4fcea51c4ea>, line 1)",
     "output_type": "error",
     "traceback": [
      "\u001b[1;36m  File \u001b[1;32m\"<ipython-input-14-c4fcea51c4ea>\"\u001b[1;36m, line \u001b[1;32m1\u001b[0m\n\u001b[1;33m    who(long=\"Fitria Nur Aida\",\"Fitria\") #akan error\u001b[0m\n\u001b[1;37m                              ^\u001b[0m\n\u001b[1;31mSyntaxError\u001b[0m\u001b[1;31m:\u001b[0m positional argument follows keyword argument\n"
     ]
    }
   ],
   "source": [
    "who(long=\"Fitria Nur Aida\",\"Fitria\") #akan error"
   ]
  },
  {
   "cell_type": "code",
   "execution_count": 15,
   "metadata": {},
   "outputs": [
    {
     "name": "stdout",
     "output_type": "stream",
     "text": [
      "Namaku adalah Fitria Nur Aida biasanya dipanggil Fitria\n"
     ]
    }
   ],
   "source": [
    "who(long=\"Fitria Nur Aida\",nick=\"Fitria\")"
   ]
  },
  {
   "cell_type": "code",
   "execution_count": 18,
   "metadata": {},
   "outputs": [
    {
     "name": "stdout",
     "output_type": "stream",
     "text": [
      "Namaku adalah Fitria Nur Aida biasanya dipanggil Fitria\n",
      "Namaku adalah Aida Nur Fitria biasanya dipanggil Fitria\n",
      "Namaku adalah Aida Nur Fitria biasanya dipanggil Aida\n"
     ]
    }
   ],
   "source": [
    "def who(long, nick=\"Fitria\"): #nick menjadi default parameter\n",
    "    print(\"Namaku adalah\", long,\"biasanya dipanggil\", nick)\n",
    "\n",
    "who(\"Fitria Nur Aida\") #menggunakan default parameter\n",
    "who(\"Aida Nur Fitria\") #menggunakan default parameter\n",
    "who(\"Aida Nur Fitria\",\"Aida\") #mengganti default parameter"
   ]
  },
  {
   "cell_type": "code",
   "execution_count": 25,
   "metadata": {},
   "outputs": [
    {
     "name": "stdout",
     "output_type": "stream",
     "text": [
      "Cendol cendol dawet dawet\n",
      "Cendol cendol dawet dawet\n",
      "Cendol dawet seger piro ?\n",
      "limangatusan\n"
     ]
    }
   ],
   "source": [
    "import time\n",
    "def cendoldawet(reff=True):\n",
    "    time.sleep(1)\n",
    "    print(\"Cendol cendol dawet dawet\")\n",
    "    time.sleep(1)\n",
    "    print(\"Cendol cendol dawet dawet\")\n",
    "    time.sleep(1)\n",
    "    print(\"Cendol dawet seger piro ?\")\n",
    "    if not reff:\n",
    "        return\n",
    "    time.sleep(1)\n",
    "    print(\"limangatusan\")\n",
    "\n",
    "cendoldawet() #menggunakan default"
   ]
  },
  {
   "cell_type": "code",
   "execution_count": 26,
   "metadata": {},
   "outputs": [
    {
     "name": "stdout",
     "output_type": "stream",
     "text": [
      "Cendol cendol dawet dawet\n",
      "Cendol cendol dawet dawet\n",
      "Cendol dawet seger piro ?\n",
      "limangatusan\n"
     ]
    }
   ],
   "source": [
    "cendoldawet(True)"
   ]
  },
  {
   "cell_type": "code",
   "execution_count": 27,
   "metadata": {},
   "outputs": [
    {
     "name": "stdout",
     "output_type": "stream",
     "text": [
      "Cendol cendol dawet dawet\n",
      "Cendol cendol dawet dawet\n",
      "Cendol dawet seger piro ?\n"
     ]
    }
   ],
   "source": [
    "cendoldawet(False)"
   ]
  },
  {
   "cell_type": "code",
   "execution_count": 30,
   "metadata": {},
   "outputs": [
    {
     "name": "stdout",
     "output_type": "stream",
     "text": [
      "Namaku adalah Fitria\n"
     ]
    }
   ],
   "source": [
    "def who():\n",
    "    return \"Fitria\"\n",
    "\n",
    "name=who() #dapat didefinisikan dalam variabel\n",
    "print(\"Namaku adalah\",name)"
   ]
  },
  {
   "cell_type": "code",
   "execution_count": 76,
   "metadata": {},
   "outputs": [
    {
     "name": "stdout",
     "output_type": "stream",
     "text": [
      "Do I know that variable? 10\n",
      "10\n",
      "Do I know that variable? 5\n",
      "4\n"
     ]
    }
   ],
   "source": [
    "#contoh 1\n",
    "def cek():\n",
    "    print(\"Do I know that variable?\", var1)\n",
    "\n",
    "var1 = 10\n",
    "cek()\n",
    "print(var1)\n",
    "\n",
    "#contoh 2\n",
    "def cek():\n",
    "    var2 = 5\n",
    "    print(\"Do I know that variable?\", var2)\n",
    "\n",
    "var2=4 #jika baris ini tidak ada maka var2 untuk print(var2) tidak terdefinisi\n",
    "cek()\n",
    "print(var2)"
   ]
  },
  {
   "cell_type": "markdown",
   "metadata": {},
   "source": [
    "### None"
   ]
  },
  {
   "cell_type": "code",
   "execution_count": 37,
   "metadata": {},
   "outputs": [
    {
     "name": "stdout",
     "output_type": "stream",
     "text": [
      "Hei! itu bukan suatu nilai\n"
     ]
    }
   ],
   "source": [
    "value = None\n",
    "if value == None:\n",
    "   print(\"Hei! itu bukan suatu nilai\")"
   ]
  },
  {
   "cell_type": "code",
   "execution_count": 43,
   "metadata": {},
   "outputs": [
    {
     "name": "stdout",
     "output_type": "stream",
     "text": [
      "True\n",
      "None\n"
     ]
    }
   ],
   "source": [
    "def angka(n):\n",
    "    if(n % 2 == 0):\n",
    "        return True\n",
    "\n",
    "print(angka(16))\n",
    "print(angka(17))"
   ]
  },
  {
   "cell_type": "markdown",
   "metadata": {},
   "source": [
    "### Perulangan di dalam Fungsi"
   ]
  },
  {
   "cell_type": "code",
   "execution_count": 44,
   "metadata": {},
   "outputs": [
    {
     "data": {
      "text/plain": [
       "19"
      ]
     },
     "execution_count": 44,
     "metadata": {},
     "output_type": "execute_result"
    }
   ],
   "source": [
    "def tambah(elemen):\n",
    "    tambah=0\n",
    "    for i in elemen:\n",
    "        tambah += i\n",
    "    return tambah\n",
    "\n",
    "elemen=[4,1,5,7,2]\n",
    "tambah(elemen)"
   ]
  },
  {
   "cell_type": "code",
   "execution_count": 54,
   "metadata": {},
   "outputs": [
    {
     "data": {
      "text/plain": [
       "True"
      ]
     },
     "execution_count": 54,
     "metadata": {},
     "output_type": "execute_result"
    }
   ],
   "source": [
    "def kabisat(year):\n",
    "    if year%4==0:\n",
    "        return True\n",
    "    else: return False\n",
    "\n",
    "kabisat(1900)"
   ]
  },
  {
   "cell_type": "code",
   "execution_count": 66,
   "metadata": {},
   "outputs": [
    {
     "data": {
      "text/plain": [
       "29"
      ]
     },
     "execution_count": 66,
     "metadata": {},
     "output_type": "execute_result"
    }
   ],
   "source": [
    "bulankab=[31,28,31,30,31,30,31,31,30,31,30,31]\n",
    "def hari(year,month):\n",
    "    if year%4!=0:\n",
    "        bulankab[1]=29\n",
    "        day=bulankab[month-1]\n",
    "    else: day=bulankab[month-1]\n",
    "    return day\n",
    "\n",
    "hari(2017,2)"
   ]
  },
  {
   "cell_type": "code",
   "execution_count": 70,
   "metadata": {},
   "outputs": [
    {
     "name": "stdout",
     "output_type": "stream",
     "text": [
      "[1, 3, 5, 7, 9]\n"
     ]
    }
   ],
   "source": [
    "def listganjil(batas):\n",
    "    ganjil = []\n",
    "    for i in range(batas):\n",
    "        if i%2==1:\n",
    "            ganjil.append(i)\n",
    "    return ganjil\n",
    "\n",
    "print(listganjil(10))"
   ]
  },
  {
   "cell_type": "markdown",
   "metadata": {},
   "source": [
    "### Fungsi Body Mass Index (BMI)"
   ]
  },
  {
   "cell_type": "code",
   "execution_count": 79,
   "metadata": {},
   "outputs": [
    {
     "name": "stdout",
     "output_type": "stream",
     "text": [
      "Berapa berat badanmu : 50\n",
      "Berapa tinggi badanmu (m) : 1.59\n",
      "19.77769866698311\n"
     ]
    }
   ],
   "source": [
    "def bmi(berat, tinggi):\n",
    "    hasil = berat/(tinggi**2)\n",
    "    return hasil\n",
    "\n",
    "w = float(input(\"Berapa berat badanmu : \"))\n",
    "h = float(input(\"Berapa tinggi badanmu (m) : \"))\n",
    "print(bmi(w, h))"
   ]
  },
  {
   "cell_type": "markdown",
   "metadata": {},
   "source": [
    "### Fungsi Segitiga"
   ]
  },
  {
   "cell_type": "code",
   "execution_count": 84,
   "metadata": {},
   "outputs": [
    {
     "name": "stdout",
     "output_type": "stream",
     "text": [
      "sisi a : 3\n",
      "sisi b : 5\n",
      "sisi c : 4\n",
      "Apakah berbentuk segitiga?  True\n",
      "Apakah berbentuk segitiga siku-siku?  True\n"
     ]
    }
   ],
   "source": [
    "a = float(input(\"sisi a : \"))\n",
    "b = float(input(\"sisi b : \"))\n",
    "c = float(input(\"sisi c : \"))\n",
    "\n",
    "def segitiga(a, b, c):\n",
    "    return a + b > c and b + c > a and c + a > b\n",
    "\n",
    "def sikusiku(a, b, c):\n",
    "    if not segitiga(a, b, c):\n",
    "        return False\n",
    "    if c > a and c > b:\n",
    "        return c ** 2 == a ** 2 + b ** 2\n",
    "    if a > b and a > c:\n",
    "        return a ** 2 == b ** 2 + c ** 2\n",
    "    if b > a and b > c:\n",
    "        return b ** 2 == a ** 2 + c ** 2\n",
    "\n",
    "print(\"Apakah berbentuk segitiga? \", segitiga(a,b,c))\n",
    "print(\"Apakah berbentuk segitiga siku-siku? \", sikusiku(a,b,c))"
   ]
  },
  {
   "cell_type": "markdown",
   "metadata": {},
   "source": [
    "### Fungsi Faktorial"
   ]
  },
  {
   "cell_type": "code",
   "execution_count": 8,
   "metadata": {},
   "outputs": [
    {
     "data": {
      "text/plain": [
       "120"
      ]
     },
     "execution_count": 8,
     "metadata": {},
     "output_type": "execute_result"
    }
   ],
   "source": [
    "def factorial(n): #n!\n",
    "    if n < 0:\n",
    "        return None\n",
    "    if n < 2:\n",
    "        return 1\n",
    "    \n",
    "    faktorial= 1\n",
    "    for i in range(2, n + 1):\n",
    "        faktorial *= i\n",
    "    return faktorial\n",
    "\n",
    "factorial(5) "
   ]
  },
  {
   "cell_type": "code",
   "execution_count": 12,
   "metadata": {},
   "outputs": [
    {
     "name": "stdout",
     "output_type": "stream",
     "text": [
      "1\n",
      "1\n",
      "120\n"
     ]
    }
   ],
   "source": [
    "def factorial(n):\n",
    "    if n == 1 or n==0:    #kondisi awal\n",
    "        return 1\n",
    "    else:\n",
    "        return n * factorial(n - 1)\n",
    "\n",
    "print(factorial(0))\n",
    "print(factorial(1))\n",
    "print(factorial(5))"
   ]
  },
  {
   "cell_type": "markdown",
   "metadata": {},
   "source": [
    "### Fungsi Fibonacci"
   ]
  },
  {
   "cell_type": "code",
   "execution_count": 7,
   "metadata": {},
   "outputs": [
    {
     "data": {
      "text/plain": [
       "5"
      ]
     },
     "execution_count": 7,
     "metadata": {},
     "output_type": "execute_result"
    }
   ],
   "source": [
    "def fibonacci(n):\n",
    "    if n < 1:\n",
    "         return None\n",
    "    if n < 3:\n",
    "        return 1\n",
    "\n",
    "    elemen1 = elemen2 = 1\n",
    "    sum = 0\n",
    "    for i in range(3, n + 1):\n",
    "        sum = elemen1+ elemen2\n",
    "        elemen1, elemen2 = elemen2, sum\n",
    "    return sum\n",
    "\n",
    "fibonacci(5)"
   ]
  },
  {
   "cell_type": "markdown",
   "metadata": {},
   "source": [
    "## Tuples\n",
    "- menggunakan () dan/atau elemen dipisahkan oleh koma\n",
    "- TIDAK DAPAT digunakannya append(), del, ataupun memodifikasi elemennya\n",
    "- dapat digunakannya len(), \"+\", \"*\", in, not in"
   ]
  },
  {
   "cell_type": "code",
   "execution_count": 13,
   "metadata": {},
   "outputs": [
    {
     "name": "stdout",
     "output_type": "stream",
     "text": [
      "(0.5, 7, 'Fitria')\n"
     ]
    }
   ],
   "source": [
    "tuple1 = (0.5, 7, \"Fitria\")\n",
    "print(tuple1)"
   ]
  },
  {
   "cell_type": "code",
   "execution_count": 16,
   "metadata": {},
   "outputs": [
    {
     "name": "stdout",
     "output_type": "stream",
     "text": [
      "1\n",
      "1000\n",
      "(10, 100, 1000)\n",
      "(1, 10)\n"
     ]
    }
   ],
   "source": [
    "Tuple = (1, 10, 100, 1000)\n",
    "\n",
    "print(myTuple[0])\n",
    "print(myTuple[-1])\n",
    "print(myTuple[1:])\n",
    "print(myTuple[:-2])"
   ]
  },
  {
   "cell_type": "code",
   "execution_count": 17,
   "metadata": {},
   "outputs": [
    {
     "ename": "TypeError",
     "evalue": "'tuple' object does not support item assignment",
     "output_type": "error",
     "traceback": [
      "\u001b[1;31m---------------------------------------------------------------------------\u001b[0m",
      "\u001b[1;31mTypeError\u001b[0m                                 Traceback (most recent call last)",
      "\u001b[1;32m<ipython-input-17-64c0fe27349f>\u001b[0m in \u001b[0;36m<module>\u001b[1;34m\u001b[0m\n\u001b[1;32m----> 1\u001b[1;33m \u001b[0mTuple\u001b[0m\u001b[1;33m[\u001b[0m\u001b[1;36m1\u001b[0m\u001b[1;33m]\u001b[0m\u001b[1;33m=\u001b[0m\u001b[1;36m10000\u001b[0m\u001b[1;33m\u001b[0m\u001b[1;33m\u001b[0m\u001b[0m\n\u001b[0m\u001b[0;32m      2\u001b[0m \u001b[0mprint\u001b[0m\u001b[1;33m(\u001b[0m\u001b[0mTuple\u001b[0m\u001b[1;33m)\u001b[0m\u001b[1;33m\u001b[0m\u001b[1;33m\u001b[0m\u001b[0m\n",
      "\u001b[1;31mTypeError\u001b[0m: 'tuple' object does not support item assignment"
     ]
    }
   ],
   "source": [
    "Tuple[1]=10000 #error karena tidak dapat memodifikasi elemen\n",
    "print(Tuple)"
   ]
  },
  {
   "cell_type": "code",
   "execution_count": 18,
   "metadata": {},
   "outputs": [
    {
     "ename": "TypeError",
     "evalue": "'tuple' object doesn't support item deletion",
     "output_type": "error",
     "traceback": [
      "\u001b[1;31m---------------------------------------------------------------------------\u001b[0m",
      "\u001b[1;31mTypeError\u001b[0m                                 Traceback (most recent call last)",
      "\u001b[1;32m<ipython-input-18-bb89cc327321>\u001b[0m in \u001b[0;36m<module>\u001b[1;34m\u001b[0m\n\u001b[1;32m----> 1\u001b[1;33m \u001b[1;32mdel\u001b[0m \u001b[0mTuple\u001b[0m\u001b[1;33m[\u001b[0m\u001b[1;36m1\u001b[0m\u001b[1;33m]\u001b[0m\u001b[1;33m\u001b[0m\u001b[1;33m\u001b[0m\u001b[0m\n\u001b[0m",
      "\u001b[1;31mTypeError\u001b[0m: 'tuple' object doesn't support item deletion"
     ]
    }
   ],
   "source": [
    "del Tuple[1] #error"
   ]
  },
  {
   "cell_type": "code",
   "execution_count": 19,
   "metadata": {},
   "outputs": [
    {
     "ename": "AttributeError",
     "evalue": "'tuple' object has no attribute 'append'",
     "output_type": "error",
     "traceback": [
      "\u001b[1;31m---------------------------------------------------------------------------\u001b[0m",
      "\u001b[1;31mAttributeError\u001b[0m                            Traceback (most recent call last)",
      "\u001b[1;32m<ipython-input-19-8495a029f67d>\u001b[0m in \u001b[0;36m<module>\u001b[1;34m\u001b[0m\n\u001b[1;32m----> 1\u001b[1;33m \u001b[0mTuple\u001b[0m\u001b[1;33m.\u001b[0m\u001b[0mappend\u001b[0m\u001b[1;33m(\u001b[0m\u001b[1;36m10000\u001b[0m\u001b[1;33m)\u001b[0m\u001b[1;33m\u001b[0m\u001b[1;33m\u001b[0m\u001b[0m\n\u001b[0m",
      "\u001b[1;31mAttributeError\u001b[0m: 'tuple' object has no attribute 'append'"
     ]
    }
   ],
   "source": [
    "Tuple.append(10000) #error"
   ]
  },
  {
   "cell_type": "code",
   "execution_count": 59,
   "metadata": {},
   "outputs": [
    {
     "name": "stdout",
     "output_type": "stream",
     "text": [
      "4\n",
      "(1, 10, 100, 1000, 10000, 100000)\n",
      "(1, 10, 100, 1000, 1, 10, 100, 1000, 1, 10, 100, 1000)\n",
      "True\n",
      "True\n",
      "3\n"
     ]
    }
   ],
   "source": [
    "Tuple = (1, 10, 100, 1000)\n",
    "\n",
    "t1 = Tuple + (10000, 100000) #sebagai pengganti append()\n",
    "t2 = Tuple * 3\n",
    "\n",
    "print(len(Tuple)) #menghitung banyaknya item dalam suatu tuple\n",
    "print(t1)\n",
    "print(t2)\n",
    "print(10 in Tuple)\n",
    "print(-10 not in Tuple)\n",
    "print(t2.count(100)) #mengitung banyaknya item tertentu dalam suatu tuple"
   ]
  },
  {
   "cell_type": "code",
   "execution_count": 62,
   "metadata": {},
   "outputs": [
    {
     "name": "stdout",
     "output_type": "stream",
     "text": [
      "(1, 2, 3, 4, 5)\n"
     ]
    }
   ],
   "source": [
    "list1 = [1,2,3,4,5]\n",
    "newtuple = tuple(list1) #mengubah format list ke tuple\n",
    "print(newtuple)"
   ]
  },
  {
   "cell_type": "markdown",
   "metadata": {},
   "source": [
    "## Dictionaries\n",
    "- menggunakan {}\n",
    "- dapat digunakannya fungsi sorted()\n",
    "- dapat digunakannya fungsi keys(), items(), dan values() methods\n",
    "- item dapat dimodifikasi, ditambahi (update()), atau dapat dihapus (del instruction)"
   ]
  },
  {
   "cell_type": "code",
   "execution_count": 31,
   "metadata": {},
   "outputs": [
    {
     "name": "stdout",
     "output_type": "stream",
     "text": [
      "{'fitria': '08234567890', 'nur': '08976543210', 'aida': '08567891234'}\n",
      "{}\n",
      "08234567890\n"
     ]
    }
   ],
   "source": [
    "nomortelp = {'fitria' : '08234567890', 'nur' : '08976543210', 'aida' : '08567891234'}\n",
    "kamuskosong = {}\n",
    "\n",
    "print(nomortelp)\n",
    "print(kamuskosong)\n",
    "print(nomortelp['fitria'])"
   ]
  },
  {
   "cell_type": "code",
   "execution_count": 32,
   "metadata": {},
   "outputs": [
    {
     "name": "stdout",
     "output_type": "stream",
     "text": [
      "fitria -> 08234567890\n",
      "nur -> 08976543210\n",
      "aida -> 08567891234\n"
     ]
    }
   ],
   "source": [
    "for key in nomortelp.keys():\n",
    "    print(key, \"->\", nomortelp[key])"
   ]
  },
  {
   "cell_type": "code",
   "execution_count": 33,
   "metadata": {},
   "outputs": [
    {
     "name": "stdout",
     "output_type": "stream",
     "text": [
      "aida -> 08567891234\n",
      "fitria -> 08234567890\n",
      "nur -> 08976543210\n"
     ]
    }
   ],
   "source": [
    "for key in sorted(nomortelp.keys()):\n",
    "    print(key, \"->\", nomortelp[key])"
   ]
  },
  {
   "cell_type": "code",
   "execution_count": 51,
   "metadata": {},
   "outputs": [
    {
     "name": "stdout",
     "output_type": "stream",
     "text": [
      "Indonesia -> Bahasa Indonesia\n",
      "China -> Mandarin\n",
      "England -> English\n",
      "Bahasa Indonesia\n",
      "Mandarin\n",
      "English\n"
     ]
    }
   ],
   "source": [
    "bahasa = {'Indonesia':'Bahasa Indonesia', 'China':'Mandarin', 'England':'English'}\n",
    "\n",
    "for Negara, Bahasa in bahasa.items(): #mendefinisikan item sebelah kiri merupakan Negara dan sebelah kanan merupakan Bahasa\n",
    "    print(Negara,\"->\",Bahasa)\n",
    "\n",
    "for Bahasa in bahasa.values(): #hanya mengambil nilai sebelah kanan\n",
    "    print(Bahasa)"
   ]
  },
  {
   "cell_type": "code",
   "execution_count": 53,
   "metadata": {},
   "outputs": [
    {
     "name": "stdout",
     "output_type": "stream",
     "text": [
      "{'Indonesia': 'Bahasa', 'China': 'Mandarin', 'England': 'English'}\n"
     ]
    }
   ],
   "source": [
    "#Memodifikasi item\n",
    "bahasa = {'Indonesia':'Bahasa Indonesia', 'China':'Mandarin', 'England':'English'}\n",
    "bahasa['Indonesia']='Bahasa'\n",
    "print(bahasa)"
   ]
  },
  {
   "cell_type": "code",
   "execution_count": 55,
   "metadata": {},
   "outputs": [
    {
     "name": "stdout",
     "output_type": "stream",
     "text": [
      "{'Indonesia': 'Bahasa Indonesia', 'China': 'Mandarin', 'England': 'English', 'Spanyol': 'Spanish'}\n",
      "{'Indonesia': 'Bahasa Indonesia', 'China': 'Mandarin', 'England': 'English', 'India': 'Hindi'}\n"
     ]
    }
   ],
   "source": [
    "#Menambahi item cara 1\n",
    "bahasa = {'Indonesia':'Bahasa Indonesia', 'China':'Mandarin', 'England':'English'}\n",
    "bahasa['Spanyol']='Spanish' #jika tidak ada dalam dictionaries maka akan secara langsung menambahkan item\n",
    "print(bahasa)\n",
    "\n",
    "#Menambahi item cara 2\n",
    "bahasa = {'Indonesia':'Bahasa Indonesia', 'China':'Mandarin', 'England':'English'}\n",
    "bahasa.update({'India':'Hindi'})\n",
    "print(bahasa)"
   ]
  },
  {
   "cell_type": "code",
   "execution_count": 57,
   "metadata": {},
   "outputs": [
    {
     "name": "stdout",
     "output_type": "stream",
     "text": [
      "{'Indonesia': 'Bahasa Indonesia', 'England': 'English'}\n",
      "{'Indonesia': 'Bahasa Indonesia', 'China': 'Mandarin'}\n"
     ]
    }
   ],
   "source": [
    "#Menghapus item\n",
    "bahasa = {'Indonesia':'Bahasa Indonesia', 'China':'Mandarin', 'England':'English'}\n",
    "del bahasa['China']\n",
    "print(bahasa)\n",
    "\n",
    "#Menghapus item paling akhir\n",
    "bahasa = {'Indonesia':'Bahasa Indonesia', 'China':'Mandarin', 'England':'English'}\n",
    "bahasa.popitem()\n",
    "print(bahasa)"
   ]
  },
  {
   "cell_type": "code",
   "execution_count": 65,
   "metadata": {},
   "outputs": [
    {
     "name": "stdout",
     "output_type": "stream",
     "text": [
      "{'Indonesia': 'Bahasa Indonesia', 'China': 'Mandarin', 'England': 'English'}\n"
     ]
    }
   ],
   "source": [
    "#mengubah format tuple ke dictionaries\n",
    "bahasa = (('Indonesia','Bahasa Indonesia'), ('China','Mandarin'), ('England','English'))\n",
    "newdict = dict(bahasa)\n",
    "print(newdict)"
   ]
  },
  {
   "cell_type": "code",
   "execution_count": null,
   "metadata": {},
   "outputs": [],
   "source": []
  }
 ],
 "metadata": {
  "kernelspec": {
   "display_name": "Python 3",
   "language": "python",
   "name": "python3"
  },
  "language_info": {
   "codemirror_mode": {
    "name": "ipython",
    "version": 3
   },
   "file_extension": ".py",
   "mimetype": "text/x-python",
   "name": "python",
   "nbconvert_exporter": "python",
   "pygments_lexer": "ipython3",
   "version": "3.7.1"
  }
 },
 "nbformat": 4,
 "nbformat_minor": 2
}
