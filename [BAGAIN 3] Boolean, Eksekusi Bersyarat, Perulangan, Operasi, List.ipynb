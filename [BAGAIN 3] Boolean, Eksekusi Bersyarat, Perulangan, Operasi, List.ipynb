{
 "cells": [
  {
   "cell_type": "markdown",
   "metadata": {},
   "source": [
    "# BAGIAN 3"
   ]
  },
  {
   "cell_type": "markdown",
   "metadata": {},
   "source": [
    "- Nilai Boolean\n",
    "- Eksekusi Bersyarat (Conditional Execution)\n",
    "- Perulangan (Looping)\n",
    "- Logical and Bitwise Operation\n",
    "- Lists\n",
    "- Sorting List\n",
    "- Operasi List"
   ]
  },
  {
   "cell_type": "markdown",
   "metadata": {},
   "source": [
    "## Operator Tanya Jawab / Operator Perbandingan"
   ]
  },
  {
   "cell_type": "markdown",
   "metadata": {},
   "source": [
    "Jawaban dari operator tanya ini berupa False dan True\n",
    "- Equality Operator (==)\n",
    "- Inequality Operator (!=)\n",
    "- \"Greater Than\" Operator (>) and \"Greater Than or Equal to\" Operator (>=)\n",
    "- \"Less Than\" Operator (<) and \"Less Than or Equal to\" Operator (<=)\n"
   ]
  },
  {
   "cell_type": "code",
   "execution_count": 2,
   "metadata": {},
   "outputs": [
    {
     "name": "stdout",
     "output_type": "stream",
     "text": [
      "False\n",
      "True\n"
     ]
    }
   ],
   "source": [
    "# Equality Operator a==b, apakah a sama dengan b?\n",
    "print(2==3)\n",
    "print(4==4)"
   ]
  },
  {
   "cell_type": "code",
   "execution_count": 3,
   "metadata": {},
   "outputs": [
    {
     "name": "stdout",
     "output_type": "stream",
     "text": [
      "False\n",
      "True\n"
     ]
    }
   ],
   "source": [
    "a = 5\n",
    "print(a==6)\n",
    "print(a==5)"
   ]
  },
  {
   "cell_type": "code",
   "execution_count": 6,
   "metadata": {},
   "outputs": [
    {
     "name": "stdout",
     "output_type": "stream",
     "text": [
      "True\n",
      "False\n"
     ]
    }
   ],
   "source": [
    "# Inequality Operator a!=b, apa a tidak sama dengan b?\n",
    "print(2!=3)\n",
    "print(4!=4)"
   ]
  },
  {
   "cell_type": "code",
   "execution_count": 7,
   "metadata": {},
   "outputs": [
    {
     "name": "stdout",
     "output_type": "stream",
     "text": [
      "True\n",
      "False\n"
     ]
    }
   ],
   "source": [
    "a = 5\n",
    "print(a!=6)\n",
    "print(a!=5)"
   ]
  },
  {
   "cell_type": "code",
   "execution_count": 1,
   "metadata": {},
   "outputs": [
    {
     "name": "stdout",
     "output_type": "stream",
     "text": [
      "False\n",
      "True\n"
     ]
    }
   ],
   "source": [
    "# \"Greater than\" Operator a>b, apakah a lebih besar dari b\n",
    "# \"Greater than or Equal to\" Operator a>=b, apakah a lebih besar dari b atau sama dengan b?\n",
    "a = 5\n",
    "print(a>6)\n",
    "print(a>=5)"
   ]
  },
  {
   "cell_type": "code",
   "execution_count": 2,
   "metadata": {},
   "outputs": [
    {
     "name": "stdout",
     "output_type": "stream",
     "text": [
      "True\n",
      "True\n"
     ]
    }
   ],
   "source": [
    "# \"Less than\" Operator a>b, apakah a lebih kecil dari b\n",
    "# \"Less than or Equal to\" Operator a>=b, apakah a lebih kecil dari b atau sama dengan b?\n",
    "a = 5\n",
    "print(a<6)\n",
    "print(a<=5)"
   ]
  },
  {
   "cell_type": "code",
   "execution_count": 3,
   "metadata": {},
   "outputs": [
    {
     "name": "stdout",
     "output_type": "stream",
     "text": [
      "False\n",
      "True\n"
     ]
    }
   ],
   "source": [
    "n = +123\n",
    "print(n<100)\n",
    "print(n>=100)"
   ]
  },
  {
   "cell_type": "markdown",
   "metadata": {},
   "source": [
    "## Conditional Execution "
   ]
  },
  {
   "cell_type": "markdown",
   "metadata": {},
   "source": [
    "- if statement\n",
    "- if-else statement\n",
    "- nested if-else statement (if-else bertumpuk)\n",
    "- elif statement"
   ]
  },
  {
   "cell_type": "code",
   "execution_count": 9,
   "metadata": {},
   "outputs": [
    {
     "name": "stdout",
     "output_type": "stream",
     "text": [
      "Masukkan nilai a: 4\n",
      "Masukkan nilai b: 4\n",
      "yeay!\n",
      "oops sorry\n"
     ]
    }
   ],
   "source": [
    "a = int(input(\"Masukkan nilai a: \"))\n",
    "b = int(input(\"Masukkan nilai b: \"))\n",
    "if a == b:\n",
    "    print(\"yeay!\")\n",
    "print(\"oops sorry\") #syarat terpenuhi atau tidak terpenuhi, perintah ini berlaku dalam keadaan apapun. "
   ]
  },
  {
   "cell_type": "code",
   "execution_count": 5,
   "metadata": {},
   "outputs": [
    {
     "name": "stdout",
     "output_type": "stream",
     "text": [
      "Masukkan angka pertama: 4\n",
      "Masukkan angka kedua: 7\n",
      "Angka yang lebih besar: 7\n"
     ]
    }
   ],
   "source": [
    "num1 = int(input(\"Masukkan angka pertama: \"))\n",
    "num2 = int(input(\"Masukkan angka kedua: \"))\n",
    "\n",
    "# Memilih angka yang lebih besar\n",
    "if num1 > num2:\n",
    "    besar = num1\n",
    "else:\n",
    "    besar = num2\n",
    "\n",
    "# Menampilkan hasil\n",
    "print(\"Angka yang lebih besar:\", besar)"
   ]
  },
  {
   "cell_type": "code",
   "execution_count": 19,
   "metadata": {},
   "outputs": [
    {
     "name": "stdout",
     "output_type": "stream",
     "text": [
      "Masukkan angka pertama: 100\n",
      "gotcha!!!\n"
     ]
    }
   ],
   "source": [
    "num1 = int(input(\"Masukkan angka pertama: \"))\n",
    "\n",
    "if num1>100:\n",
    "    if num1%2==0:\n",
    "        print(\"bilangan genap lebih dari 100\")\n",
    "    else:\n",
    "        print(\"bilangan ganjil lebih dari 100\")\n",
    "elif num1<100:\n",
    "    if num1%2==0:\n",
    "        print(\"bilangan genap kurang dari 100\")\n",
    "    else:\n",
    "        print(\"bilangan ganjil kurang dari 100\")\n",
    "else:\n",
    "    print(\"gotcha!!!\")"
   ]
  },
  {
   "cell_type": "code",
   "execution_count": 15,
   "metadata": {},
   "outputs": [
    {
     "name": "stdout",
     "output_type": "stream",
     "text": [
      "Masukkan angka pertama: 5\n",
      "Masukkan angka kedua: 3\n",
      "Masukkan angka ketiga: 6\n",
      "Angka yang lebih besar: 6\n"
     ]
    }
   ],
   "source": [
    "num1 = int(input(\"Masukkan angka pertama: \"))\n",
    "num2 = int(input(\"Masukkan angka kedua: \"))\n",
    "num3 = int(input(\"Masukkan angka ketiga: \"))\n",
    "besar = num1\n",
    "\n",
    "if num2 > besar:\n",
    "    besar = num2\n",
    "elif num3 > besar:\n",
    "    besar = num3\n",
    "else : \n",
    "    besar = num1\n",
    "\n",
    "# menampilkan hasil\n",
    "print(\"Angka yang paling besar:\", besar)"
   ]
  },
  {
   "cell_type": "code",
   "execution_count": 35,
   "metadata": {},
   "outputs": [
    {
     "name": "stdout",
     "output_type": "stream",
     "text": [
      "nilai x: 10\n",
      "True\n",
      "True\n",
      "else\n"
     ]
    }
   ],
   "source": [
    "#Contoh 1\n",
    "x = int(input(\"nilai x: \"))\n",
    "\n",
    "if x == 10:\n",
    "    print(x == 10)\n",
    "if x > 5:\n",
    "    print(x > 5)\n",
    "if x < 10:\n",
    "    print(x < 10)\n",
    "else:\n",
    "    print(\"else\")"
   ]
  },
  {
   "cell_type": "code",
   "execution_count": 26,
   "metadata": {},
   "outputs": [
    {
     "name": "stdout",
     "output_type": "stream",
     "text": [
      "Tanaman kesukaanmu: spathiphyllum\n",
      "oops\n"
     ]
    }
   ],
   "source": [
    "#Contoh 2\n",
    "fav_plant = input(\"Tanaman kesukaanmu: \")\n",
    "if fav_plant==\"Spathiphyllum\":\n",
    "    print(\"yeay benar sekalii!!\")\n",
    "else:\n",
    "    print(\"oops\")"
   ]
  },
  {
   "cell_type": "code",
   "execution_count": 34,
   "metadata": {},
   "outputs": [
    {
     "name": "stdout",
     "output_type": "stream",
     "text": [
      "Pendapatan per tahun: 100000\n",
      "Pajak  19470.0 rupiah\n"
     ]
    }
   ],
   "source": [
    "#Contoh 3\n",
    "pendapatan = float(input(\"Pendapatan per tahun: \"))\n",
    "\n",
    "if pendapatan <= 85528:\n",
    "    pajak = (18/100*pendapatan)-556\n",
    "    if pajak<0:\n",
    "        pajak=0.0\n",
    "else:\n",
    "    pajak = 14839+(32/100*(pendapatan-85528))\n",
    "    if pajak<0:\n",
    "        pajak=0.0\n",
    "pajak = round(pajak, 0)\n",
    "print(\"Pajak \", pajak, \"rupiah\")"
   ]
  },
  {
   "cell_type": "markdown",
   "metadata": {},
   "source": [
    "## Pseudocode"
   ]
  },
  {
   "cell_type": "markdown",
   "metadata": {},
   "source": [
    "Dapat menyederhanakan Eksekusi bersyarat, misalnya diketahui 10 bilangan dan dicari nilai terbesar dari 10 bilangan tersebut maka dapat menggunakan fungsi max().\n",
    "- max()\n",
    "- min()"
   ]
  },
  {
   "cell_type": "code",
   "execution_count": 24,
   "metadata": {},
   "outputs": [
    {
     "name": "stdout",
     "output_type": "stream",
     "text": [
      "Masukkan angka pertama: 7\n",
      "Masukkan angka kedua: 2\n",
      "Masukkan angka ketiga: 9\n",
      "Angka yang paling besar: 9\n",
      "Angka yang paling kecil: 2\n"
     ]
    }
   ],
   "source": [
    "num1 = int(input(\"Masukkan angka pertama: \"))\n",
    "num2 = int(input(\"Masukkan angka kedua: \"))\n",
    "num3 = int(input(\"Masukkan angka ketiga: \"))\n",
    "besar = max(num1, num2, num3)\n",
    "print(\"Angka yang paling besar:\", besar)\n",
    "kecil = min(num1, num2, num3)\n",
    "print(\"Angka yang paling kecil:\", kecil)"
   ]
  },
  {
   "cell_type": "markdown",
   "metadata": {},
   "source": [
    "## Perulangan (Looping)"
   ]
  },
  {
   "cell_type": "markdown",
   "metadata": {},
   "source": [
    "### while\n",
    "akan selalu berulang hingga syarat terpenuhi"
   ]
  },
  {
   "cell_type": "code",
   "execution_count": 5,
   "metadata": {},
   "outputs": [
    {
     "name": "stdout",
     "output_type": "stream",
     "text": [
      "Masukkan angka pertama: 13\n",
      "Masukkan angka pertama: 19\n",
      "Masukkan angka pertama: 10\n",
      "gotcha!!!\n"
     ]
    }
   ],
   "source": [
    "besar = 10\n",
    "num1 = int(input(\"Masukkan angka pertama: \"))\n",
    "\n",
    "while num1!=10:\n",
    "    if num1>besar:\n",
    "        besar = num1\n",
    "    num1 = int(input(\"Masukkan angka pertama: \"))\n",
    "\n",
    "print(\"gotcha!!!\")"
   ]
  },
  {
   "cell_type": "code",
   "execution_count": 8,
   "metadata": {},
   "outputs": [
    {
     "name": "stdout",
     "output_type": "stream",
     "text": [
      "Masukkan angka: 12\n",
      "Masukkan angka: 23\n",
      "Masukkan angka: 25\n",
      "Masukkan angka: 27\n",
      "Masukkan angka: 34\n",
      "Masukkan angka: 36\n",
      "Masukkan angka: 0\n",
      "banyaknya bilangan ganjil: 3\n",
      "banyaknya bilangan genap: 3\n"
     ]
    }
   ],
   "source": [
    "# Menghitung berapa banyak bilangan ganjil dan bilangan genap\n",
    "# Loooping akan berhenti jika ANGKA YANG DIMASUKKAN ADALAH 0\n",
    "\n",
    "banyak_ganjil = 0\n",
    "banyak_genap = 0\n",
    "\n",
    "num = int(input(\"Masukkan angka: \")) #Memasukkan angka\n",
    "\n",
    "while num != 0:\n",
    "    if num % 2 == 1:\n",
    "        banyak_ganjil += 1\n",
    "    else:\n",
    "        banyak_genap += 1\n",
    "    num = int(input(\"Masukkan angka: \"))\n",
    "\n",
    "# print results\n",
    "print(\"banyaknya bilangan ganjil:\", banyak_ganjil)\n",
    "print(\"banyaknya bilangan genap:\", banyak_genap)"
   ]
  },
  {
   "cell_type": "code",
   "execution_count": 3,
   "metadata": {},
   "outputs": [
    {
     "name": "stdout",
     "output_type": "stream",
     "text": [
      "Masukkan angka: 12\n",
      "Masukkan angka: 11\n",
      "Masukkan angka: 12\n",
      "Masukkan angka: 12\n",
      "Masukkan angka: 12\n",
      "Masukkan angka: 0\n",
      "banyaknya bilangan ganjil: 1\n",
      "banyaknya bilangan genap: 4\n"
     ]
    }
   ],
   "source": [
    "# Menghitung berapa banyak bilangan ganjil dan bilangan genap\n",
    "# Loooping akan berhenti jika angka yang dimasukkan 0\n",
    "\n",
    "banyak_ganjil = 0\n",
    "banyak_genap = 0\n",
    "\n",
    "num = int(input(\"Masukkan angka: \")) #Memasukkan angka\n",
    "i = 5\n",
    "while i :\n",
    "    if num % 2 == 1:\n",
    "        banyak_ganjil += 1\n",
    "    else:\n",
    "        banyak_genap += 1\n",
    "    num = int(input(\"Masukkan angka: \"))\n",
    "    i -= 1 \n",
    "\n",
    "# print results\n",
    "print(\"banyaknya bilangan ganjil:\", banyak_ganjil)\n",
    "print(\"banyaknya bilangan genap:\", banyak_genap)"
   ]
  },
  {
   "cell_type": "code",
   "execution_count": 16,
   "metadata": {},
   "outputs": [
    {
     "name": "stdout",
     "output_type": "stream",
     "text": [
      "Masukkan angka: 1\n",
      "Masukkan angka: 2\n",
      "Masukkan angka: 3\n",
      "Masukkan angka: 4\n",
      "Masukkan angka: 5\n",
      "Masukkan angka: 6\n",
      "banyaknya bilangan ganjil: 3\n",
      "banyaknya bilangan genap: 2\n"
     ]
    }
   ],
   "source": [
    "# Menghitung berapa banyak bilangan ganjil dan bilangan genap\n",
    "# Loooping akan berhenti jika angka yang dimasukkan 0\n",
    "\n",
    "banyak_ganjil = 0\n",
    "banyak_genap = 0\n",
    "\n",
    "num = int(input(\"Masukkan angka: \")) #Memasukkan angka\n",
    "i = 0\n",
    "while i<5 :\n",
    "    if num % 2 == 1:\n",
    "        banyak_ganjil += 1\n",
    "    else:\n",
    "        banyak_genap += 1\n",
    "    num = int(input(\"Masukkan angka: \"))\n",
    "    i += 1\n",
    "\n",
    "# print results\n",
    "print(\"banyaknya bilangan ganjil:\", banyak_ganjil)\n",
    "print(\"banyaknya bilangan genap:\", banyak_genap)"
   ]
  },
  {
   "cell_type": "code",
   "execution_count": 12,
   "metadata": {},
   "outputs": [
    {
     "name": "stdout",
     "output_type": "stream",
     "text": [
      "Inside the loop. 5\n",
      "Inside the loop. 4\n",
      "Inside the loop. 3\n",
      "Inside the loop. 2\n",
      "Inside the loop. 1\n",
      "Outside the loop. 0\n"
     ]
    }
   ],
   "source": [
    "counter = 5\n",
    "while counter:\n",
    "    print(\"Inside the loop.\", counter)\n",
    "    counter -= 1\n",
    "print(\"Outside the loop.\", counter)"
   ]
  },
  {
   "cell_type": "code",
   "execution_count": 37,
   "metadata": {},
   "outputs": [
    {
     "name": "stdout",
     "output_type": "stream",
     "text": [
      "Enter an integer number : 12\n",
      "Ha ha! You're stuck in my loop!\n",
      "Enter an integer number : 77\n",
      "Ha ha! You're stuck in my loop!\n",
      "Enter an integer number : 87\n",
      "Ha ha! You're stuck in my loop!\n",
      "Enter an integer number : 777\n",
      "Well done, muggle! You are free now.\n"
     ]
    }
   ],
   "source": [
    "secret_number = 777\n",
    "number = int(input(\"Enter an integer number : \"))\n",
    "while number != secret_number:\n",
    "    print(\"Ha ha! You're stuck in my loop!\")\n",
    "    number = int(input(\"Enter an integer number : \"))\n",
    "        \n",
    "print(\"Well done, muggle! You are free now.\")"
   ]
  },
  {
   "cell_type": "code",
   "execution_count": 38,
   "metadata": {},
   "outputs": [
    {
     "name": "stdout",
     "output_type": "stream",
     "text": [
      "Beri aku satu kata : aku\n",
      "cepat temukan rahasiaku!\n",
      "Beri aku satu kata : pasti\n",
      "cepat temukan rahasiaku!\n",
      "Beri aku satu kata : bisa\n",
      "cepat temukan rahasiaku!\n",
      "Beri aku satu kata : awesome\n",
      "yeay, kamu berhasil bung!!!\n"
     ]
    }
   ],
   "source": [
    "secret = \"awesome\"\n",
    "word = input(\"Beri aku satu kata : \")\n",
    "\n",
    "while word!=\"awesome\":\n",
    "    print(\"cepat temukan rahasiaku!\")\n",
    "    word = input(\"Beri aku satu kata : \")\n",
    "       \n",
    "print(\"yeay, kamu berhasil bung!!!\")"
   ]
  },
  {
   "cell_type": "markdown",
   "metadata": {},
   "source": [
    "### for\n",
    "- i in range(a) berarti looping berjalan dari 0 hingga a-1\n",
    "- i in range(c,d) berarti looping berjalan dari c hingga d-1\n",
    "- i in range(q,w,r) berarti looping berjalan untuk i=q, i=q+r, i=q+2r,... selama dalam batas w"
   ]
  },
  {
   "cell_type": "code",
   "execution_count": 18,
   "metadata": {},
   "outputs": [
    {
     "name": "stdout",
     "output_type": "stream",
     "text": [
      "nilai i adalah  0\n",
      "nilai i adalah  1\n",
      "nilai i adalah  2\n",
      "nilai i adalah  3\n",
      "nilai i adalah  4\n",
      "nilai i adalah  5\n",
      "nilai i adalah  6\n",
      "nilai i adalah  7\n",
      "nilai i adalah  8\n",
      "nilai i adalah  9\n"
     ]
    }
   ],
   "source": [
    "for i in range(10):\n",
    "    print(\"nilai i adalah \", i)"
   ]
  },
  {
   "cell_type": "code",
   "execution_count": 19,
   "metadata": {},
   "outputs": [
    {
     "name": "stdout",
     "output_type": "stream",
     "text": [
      "nilai i adalah  2\n",
      "nilai i adalah  3\n",
      "nilai i adalah  4\n",
      "nilai i adalah  5\n",
      "nilai i adalah  6\n",
      "nilai i adalah  7\n",
      "nilai i adalah  8\n",
      "nilai i adalah  9\n"
     ]
    }
   ],
   "source": [
    "for i in range(2,10):\n",
    "    print(\"nilai i adalah \", i)"
   ]
  },
  {
   "cell_type": "code",
   "execution_count": 28,
   "metadata": {},
   "outputs": [
    {
     "name": "stdout",
     "output_type": "stream",
     "text": [
      "nilai i adalah  2\n",
      "nilai i adalah  4\n",
      "nilai i adalah  6\n",
      "nilai i adalah  8\n",
      "nilai i adalah  10\n",
      "nilai i adalah  12\n",
      "nilai i adalah  14\n",
      "nilai i adalah  16\n",
      "nilai i adalah  18\n"
     ]
    }
   ],
   "source": [
    "for i in range(2,20,2):\n",
    "    print(\"nilai i adalah \", i)"
   ]
  },
  {
   "cell_type": "code",
   "execution_count": 29,
   "metadata": {},
   "outputs": [
    {
     "name": "stdout",
     "output_type": "stream",
     "text": [
      "1  Mississippi\n",
      "2  Mississippi\n",
      "3  Mississippi\n",
      "4  Mississippi\n",
      "5  Mississippi\n",
      "Ready or not, here I come!\n"
     ]
    }
   ],
   "source": [
    "import time\n",
    "\n",
    "for i in range(1,6):\n",
    "    print(i,\" Mississippi\")    \n",
    "    time.sleep(1)\n",
    "print(\"Ready or not, here I come!\")"
   ]
  },
  {
   "cell_type": "markdown",
   "metadata": {},
   "source": [
    " ### for dengan break dan continue"
   ]
  },
  {
   "cell_type": "code",
   "execution_count": 33,
   "metadata": {},
   "outputs": [
    {
     "name": "stdout",
     "output_type": "stream",
     "text": [
      "Inside the loop. 1\n",
      "Inside the loop. 2\n",
      "Outside the loop.\n"
     ]
    }
   ],
   "source": [
    "# contoh - break\n",
    "\n",
    "for i in range(1, 6):\n",
    "    if i == 3:\n",
    "        break\n",
    "    print(\"Inside the loop.\", i)\n",
    "print(\"Outside the loop.\")"
   ]
  },
  {
   "cell_type": "code",
   "execution_count": 31,
   "metadata": {},
   "outputs": [
    {
     "name": "stdout",
     "output_type": "stream",
     "text": [
      "Inside the loop. 1\n",
      "Inside the loop. 2\n",
      "Inside the loop. 4\n",
      "Inside the loop. 5\n",
      "Outside the loop.\n"
     ]
    }
   ],
   "source": [
    "# contoh - continue\n",
    "\n",
    "for i in range(1, 6):\n",
    "    if i == 3:\n",
    "        continue # melompati atau melanjutkan ke looping berikutnya\n",
    "    print(\"Inside the loop.\", i)\n",
    "print(\"Outside the loop.\")"
   ]
  },
  {
   "cell_type": "code",
   "execution_count": 62,
   "metadata": {},
   "outputs": [
    {
     "name": "stdout",
     "output_type": "stream",
     "text": [
      "Masukkan satu kata : qwert\n",
      "Q\n",
      "W\n",
      "R\n",
      "T\n"
     ]
    }
   ],
   "source": [
    "userWord = input(\"Masukkan satu kata : \")\n",
    "userWord = userWord.upper()\n",
    "\n",
    "for letter in userWord:\n",
    "    if letter==\"A\" or letter==\"I\" or letter==\"U\" or letter==\"E\" or letter==\"O\":\n",
    "        continue\n",
    "    print(letter)"
   ]
  },
  {
   "cell_type": "code",
   "execution_count": 64,
   "metadata": {},
   "outputs": [
    {
     "name": "stdout",
     "output_type": "stream",
     "text": [
      "Masukkan satu kata : qwert\n",
      "QWRT\n"
     ]
    }
   ],
   "source": [
    "userWord = input(\"Masukkan satu kata : \")\n",
    "userWord = userWord.upper()\n",
    "wordconsonant = \"\"\n",
    "for letter in userWord:\n",
    "    if letter==\"A\" or letter==\"I\" or letter==\"U\" or letter==\"E\" or letter==\"O\":\n",
    "        continue\n",
    "    wordconsonant += letter\n",
    "print(wordconsonant)"
   ]
  },
  {
   "cell_type": "markdown",
   "metadata": {},
   "source": [
    "## Logical and Bitwise Operation "
   ]
  },
  {
   "cell_type": "markdown",
   "metadata": {},
   "source": [
    "### Logical Operation\n",
    "mengahsilkan True dan False.\n",
    "- and   : kedua syarat/argumen harus terpenuhi\n",
    "- or    : salah satu syarat/argumen terpenuhi\n",
    "- not   : kebalikan syarat/argumen"
   ]
  },
  {
   "cell_type": "code",
   "execution_count": 6,
   "metadata": {},
   "outputs": [
    {
     "name": "stdout",
     "output_type": "stream",
     "text": [
      "True\n",
      "True\n"
     ]
    }
   ],
   "source": [
    "var = 1\n",
    "print(var > 0)\n",
    "print(not (var <= 0)) #kebalikan dari false"
   ]
  },
  {
   "cell_type": "code",
   "execution_count": 17,
   "metadata": {},
   "outputs": [
    {
     "name": "stdout",
     "output_type": "stream",
     "text": [
      "True\n",
      "False\n",
      "False\n",
      "True\n"
     ]
    }
   ],
   "source": [
    "p=1\n",
    "q=2\n",
    "print(not (p and q) == (not p) or (not q))\n",
    "print(not (p or q) == (not p) and (not q))\n",
    "print(not (p and q) == (not p) and (not q))\n",
    "print(not (p or q) == (not p) or (not q))\n",
    "\n",
    "# contoh :\n",
    "# p adalah bilangan prima : 2,3,5,7,11,....\n",
    "# q adalah bilangan ganjil : 1,3,5,7,9,11,....\n",
    "# prima ganjil : 3,5,7,11,...\n",
    "# bukan (prima ganjil) termasuk bukan prima atau bukan ganjil\n",
    "# bukan (prima atau ganjil) termasuk bukan prima atau bukan ganjil"
   ]
  },
  {
   "cell_type": "markdown",
   "metadata": {},
   "source": [
    "### Bitwise Operator\n",
    "- & (ampersand) - bitwise conjunction;\n",
    "- | (bar) - bitwise disjunction;\n",
    "- ~ (tilde) - bitwise negation;\n",
    "- ^ (caret) - bitwise exclusive or (xor)."
   ]
  },
  {
   "attachments": {
    "image.png": {
     "image/png": "[encoded data removed]"
    }
   },
   "cell_type": "markdown",
   "metadata": {},
   "source": [
    "![image.png](attachment:image.png)"
   ]
  },
  {
   "cell_type": "markdown",
   "metadata": {},
   "source": [
    "bilangan biner didapatkan dari sisa pembagian 2"
   ]
  },
  {
   "attachments": {
    "image.png": {
     "image/png": "[encoded data removed]"
    }
   },
   "cell_type": "markdown",
   "metadata": {},
   "source": [
    "![image.png](attachment:image.png)"
   ]
  },
  {
   "cell_type": "code",
   "execution_count": 35,
   "metadata": {},
   "outputs": [
    {
     "name": "stdout",
     "output_type": "stream",
     "text": [
      "0\n",
      "31\n",
      "-16\n",
      "31\n"
     ]
    }
   ],
   "source": [
    "x = 15 #bilangan biner 0000 1111\n",
    "y = 16 #bilangan biner 0001 0000\n",
    "\n",
    "print(x & y) #bilangan biner 0000 0000\n",
    "print(x | y) #bilangan biner 0001 1111\n",
    "print(~x)    #bilangan biner 1111 0000\n",
    "print(x ^ y) #bilangan biner 0001 1111"
   ]
  },
  {
   "cell_type": "markdown",
   "metadata": {},
   "source": [
    "### Binary left shift and binary right shift"
   ]
  },
  {
   "cell_type": "code",
   "execution_count": 28,
   "metadata": {},
   "outputs": [
    {
     "name": "stdout",
     "output_type": "stream",
     "text": [
      "100 1600 12\n"
     ]
    }
   ],
   "source": [
    "var = 100\n",
    "varLeft = var << 4 # varLeft = var * 2 * 2 * 2 * 2 dikali 2 sebayak 4x\n",
    "varRight = var >> 3 # varRight = var // 2 // 2 // 2 , dibagi 2 sebanyak 3x\n",
    "print(var, varLeft, varRight)"
   ]
  },
  {
   "cell_type": "code",
   "execution_count": 38,
   "metadata": {},
   "outputs": [
    {
     "name": "stdout",
     "output_type": "stream",
     "text": [
      "0 5 -5 1 1 16\n"
     ]
    }
   ],
   "source": [
    "x = 4 #bilangan biner 00\n",
    "y = 1 #bilangan biner 01\n",
    "\n",
    "a = x & y #bilangan biner 00\n",
    "b = x | y #bilangan biner 01\n",
    "c = ~x    #bilangan biner 11\n",
    "d = x ^ 5 #bilangan biner 01\n",
    "e = x >> 2 \n",
    "f = x << 2\n",
    "\n",
    "print(a, b, c, d, e, f)"
   ]
  },
  {
   "cell_type": "markdown",
   "metadata": {},
   "source": [
    "## Lists\n",
    "- menggunakan square bracket \"[]\"\n",
    "- dapat digunakan untuk menampung multi-value dalam suatu variabel (kumpulan beberapa elemen)\n",
    "- elemen di dalam list bisa bermacam-macam tipe seperti integer, float, dll.\n",
    "- nomor urut elemen di dalam list dari awal dimulai dari 0, misalnya jika terdapat 5 angka maka nomor urutnya 0,1,2,3,4.\n",
    "- nomor urut elemen di dalam list dari belakang dimulai dari -1, misalnya jika terdapat 5 angka maka nomor urutnya -5,-4,-3,-2,-1."
   ]
  },
  {
   "cell_type": "markdown",
   "metadata": {},
   "source": [
    "- fungsi len() digunakan untuk menghitung banyaknya elemen.\n",
    "- instruksi del digunakan untuk menghapus elemen.\n",
    "- append() method digunakan untuk meletakkan elemen baru kedalam list di bagian akhir.\n",
    "- insert() method digunakan untuk meletakkan eleman baru kedalam list di urutan tertentu."
   ]
  },
  {
   "cell_type": "code",
   "execution_count": 41,
   "metadata": {},
   "outputs": [
    {
     "name": "stdout",
     "output_type": "stream",
     "text": [
      "Elemen-elemen asli:  [10, 5, 7, 2, 1]\n",
      "perubahan elemen: [111, 5, 7, 2, 1]\n",
      "perubahan elemen: [111, 1, 7, 2, 1]\n"
     ]
    }
   ],
   "source": [
    "num = [10, 5, 7, 2, 1]\n",
    "print(\"Elemen-elemen asli: \", num) \n",
    "\n",
    "num[0] = 111\n",
    "print(\"perubahan elemen:\", num) \n",
    "\n",
    "num[1] = num[4] \n",
    "print(\"perubahan elemen:\", num)"
   ]
  },
  {
   "cell_type": "code",
   "execution_count": 42,
   "metadata": {},
   "outputs": [
    {
     "data": {
      "text/plain": [
       "5"
      ]
     },
     "execution_count": 42,
     "metadata": {},
     "output_type": "execute_result"
    }
   ],
   "source": [
    "# fungsi len()\n",
    "len(num)"
   ]
  },
  {
   "cell_type": "code",
   "execution_count": 43,
   "metadata": {},
   "outputs": [
    {
     "name": "stdout",
     "output_type": "stream",
     "text": [
      "[111, 7, 2, 1]\n",
      "4\n"
     ]
    }
   ],
   "source": [
    "# instruksi del\n",
    "del num[1]\n",
    "print(num)\n",
    "print(len(num))"
   ]
  },
  {
   "cell_type": "code",
   "execution_count": 44,
   "metadata": {},
   "outputs": [
    {
     "name": "stdout",
     "output_type": "stream",
     "text": [
      "1\n",
      "7\n"
     ]
    }
   ],
   "source": [
    "print(num[-1])\n",
    "print(num[-3])"
   ]
  },
  {
   "cell_type": "code",
   "execution_count": 46,
   "metadata": {},
   "outputs": [
    {
     "name": "stdout",
     "output_type": "stream",
     "text": [
      "Masukkan bilangan bulat:10\n",
      "4\n",
      "[1, 2, 10, 4]\n"
     ]
    }
   ],
   "source": [
    "listku = [1, 2, 3, 4, 5]  \n",
    "\n",
    "new = int(input(\"Masukkan bilangan bulat:\"))\n",
    "listku[2] = new #mengubah nilai yang terletak di tengah\n",
    "del listku[-1]\n",
    "print(len(listku))\n",
    "print(listku)"
   ]
  },
  {
   "cell_type": "code",
   "execution_count": 47,
   "metadata": {},
   "outputs": [
    {
     "name": "stdout",
     "output_type": "stream",
     "text": [
      "4\n",
      "[100, 101, 102, 103]\n",
      "5\n",
      "[100, 101, 102, 103, 104]\n"
     ]
    }
   ],
   "source": [
    "# append() method\n",
    "num = [100, 101, 102, 103]\n",
    "print(len(num))\n",
    "print(num)\n",
    "\n",
    "num.append(104)\n",
    "print(len(num))\n",
    "print(num)"
   ]
  },
  {
   "cell_type": "code",
   "execution_count": 49,
   "metadata": {},
   "outputs": [
    {
     "name": "stdout",
     "output_type": "stream",
     "text": [
      "[1, 2, 3, 4, 5, 6, 7, 8, 9, 10]\n"
     ]
    }
   ],
   "source": [
    "myList = [] # membuat list kosong\n",
    "\n",
    "for i in range(10):\n",
    "    myList.append(i + 1)\n",
    "\n",
    "print(myList)"
   ]
  },
  {
   "cell_type": "code",
   "execution_count": 48,
   "metadata": {},
   "outputs": [
    {
     "name": "stdout",
     "output_type": "stream",
     "text": [
      "4\n",
      "[100, 101, 102, 103]\n",
      "5\n",
      "[222, 100, 101, 102, 103]\n"
     ]
    }
   ],
   "source": [
    "# insert() method\n",
    "num = [100, 101, 102, 103]\n",
    "print(len(num))\n",
    "print(num)\n",
    "\n",
    "num.insert(0, 222)\n",
    "print(len(num))\n",
    "print(num)"
   ]
  },
  {
   "cell_type": "code",
   "execution_count": 51,
   "metadata": {},
   "outputs": [
    {
     "name": "stdout",
     "output_type": "stream",
     "text": [
      "26\n"
     ]
    }
   ],
   "source": [
    "myList = [3, 10, 5, 7, 1]\n",
    "total = 0\n",
    "n = len(myList)\n",
    "\n",
    "for i in range(n):\n",
    "    total += myList[i]\n",
    "\n",
    "print(total)"
   ]
  },
  {
   "cell_type": "code",
   "execution_count": 55,
   "metadata": {},
   "outputs": [
    {
     "name": "stdout",
     "output_type": "stream",
     "text": [
      "5 5\n",
      "5 2\n"
     ]
    }
   ],
   "source": [
    "# Bagaimana cara membalikkan nilai? (1)\n",
    "var1 = 2\n",
    "var2 = 5\n",
    "var1 = var2\n",
    "var2 = var1\n",
    "print(var1,var2)\n",
    "\n",
    "var1 = 2\n",
    "var2 = 5\n",
    "var1 , var2 = var2 , var1\n",
    "print(var1, var2)"
   ]
  },
  {
   "cell_type": "code",
   "execution_count": 61,
   "metadata": {},
   "outputs": [
    {
     "name": "stdout",
     "output_type": "stream",
     "text": [
      "white\n",
      "purple\n",
      "blue\n",
      "yellow\n",
      "green\n"
     ]
    }
   ],
   "source": [
    "myList = [\"white\", \"purple\", \"blue\", \"yellow\", \"green\"]\n",
    "\n",
    "for color in myList:\n",
    "    print(color)"
   ]
  },
  {
   "cell_type": "code",
   "execution_count": 62,
   "metadata": {},
   "outputs": [
    {
     "name": "stdout",
     "output_type": "stream",
     "text": [
      "[1, 3, 6, 10, 15]\n"
     ]
    }
   ],
   "source": [
    "list1 = [1, 2, 3, 4, 5]\n",
    "list2 = []\n",
    "add = 0\n",
    "\n",
    "for number in list1:\n",
    "    add += number\n",
    "    list2.append(add)\n",
    "\n",
    "print(list2)"
   ]
  },
  {
   "cell_type": "markdown",
   "metadata": {},
   "source": [
    "## Sorting List\n",
    "- sort() method mengurutkan dari kecil ke besar\n",
    "- reverse() method digunakan untuk membalik urutan"
   ]
  },
  {
   "cell_type": "code",
   "execution_count": 66,
   "metadata": {},
   "outputs": [
    {
     "name": "stdout",
     "output_type": "stream",
     "text": [
      "[1, 3, 5, 9, 10]\n"
     ]
    }
   ],
   "source": [
    "my_list = [9, 10, 5, 1, 3]\n",
    "tukar = True\n",
    "\n",
    "while tukar:\n",
    "    tukar = False\n",
    "    for i in range(len(my_list) - 1):\n",
    "        if my_list[i] > my_list[i + 1]:\n",
    "            tukar = True\n",
    "            my_list[i], my_list[i + 1] = my_list[i + 1], my_list[i]\n",
    "\n",
    "print(my_list)"
   ]
  },
  {
   "cell_type": "code",
   "execution_count": 71,
   "metadata": {},
   "outputs": [
    {
     "name": "stdout",
     "output_type": "stream",
     "text": [
      "[1, 3, 5, 9, 10]\n",
      "['A', 'F', 'I', 'R', 'T']\n"
     ]
    }
   ],
   "source": [
    "# sort() method\n",
    "my_list = [9, 10, 5, 1, 3]\n",
    "my_list.sort()\n",
    "print(my_list)\n",
    "\n",
    "my_list = [\"F\", \"I\", \"T\", \"R\", \"A\"]\n",
    "my_list.sort()\n",
    "print(my_list)"
   ]
  },
  {
   "cell_type": "code",
   "execution_count": 72,
   "metadata": {},
   "outputs": [
    {
     "name": "stdout",
     "output_type": "stream",
     "text": [
      "[3, 1, 5, 10, 9]\n",
      "['A', 'R', 'T', 'I', 'F']\n"
     ]
    }
   ],
   "source": [
    "# reverse() method\n",
    "my_list = [9, 10, 5, 1, 3]\n",
    "my_list.reverse()\n",
    "print(my_list)\n",
    "\n",
    "my_list = [\"F\", \"I\", \"T\", \"R\", \"A\"]\n",
    "my_list.reverse()\n",
    "print(my_list)"
   ]
  },
  {
   "cell_type": "markdown",
   "metadata": {},
   "source": [
    "## Operasi List"
   ]
  },
  {
   "cell_type": "code",
   "execution_count": 75,
   "metadata": {},
   "outputs": [
    {
     "name": "stdout",
     "output_type": "stream",
     "text": [
      "[5] [5]\n"
     ]
    }
   ],
   "source": [
    "# perbedaan operasi list dengan operasi biasa, \n",
    "var1 = [2]\n",
    "var2 = var1 #jika elemen var1 diganti maka var2 akan ikut terganti karena var2=var1\n",
    "var1[0] = 5\n",
    "print(var1, var2)"
   ]
  },
  {
   "cell_type": "code",
   "execution_count": 77,
   "metadata": {},
   "outputs": [
    {
     "name": "stdout",
     "output_type": "stream",
     "text": [
      "[5]\n",
      "2\n"
     ]
    }
   ],
   "source": [
    "var1 = [2]\n",
    "var2 = var1[0] #var2 samadengan elemen var1 indeks 0\n",
    "var1[0] = 5\n",
    "print(var1)\n",
    "print(var2)"
   ]
  },
  {
   "cell_type": "code",
   "execution_count": 86,
   "metadata": {},
   "outputs": [
    {
     "name": "stdout",
     "output_type": "stream",
     "text": [
      "[5, 3, 1, 9]\n",
      "[3, 1]\n"
     ]
    }
   ],
   "source": [
    "var1 = [2,3,1,9]\n",
    "var2 = var1[1:3] #var2 samadengan elemen var1 indeks 1 dan 2\n",
    "var1[0] = 5\n",
    "print(var1)\n",
    "print(var2)"
   ]
  },
  {
   "cell_type": "code",
   "execution_count": 101,
   "metadata": {},
   "outputs": [
    {
     "name": "stdout",
     "output_type": "stream",
     "text": [
      "[2, 3, 1, 9]\n",
      "[3, 1, 9]\n",
      "[2, 3, 1]\n"
     ]
    }
   ],
   "source": [
    "var1 = [2,3,1,9]\n",
    "var2 = var1[1:]\n",
    "var3 = var1[:3]\n",
    "print(var1)\n",
    "print(var2)\n",
    "print(var3)"
   ]
  },
  {
   "cell_type": "code",
   "execution_count": 102,
   "metadata": {},
   "outputs": [
    {
     "name": "stdout",
     "output_type": "stream",
     "text": [
      "True\n",
      "True\n",
      "False\n"
     ]
    }
   ],
   "source": [
    "# in, not in\n",
    "my_list = [6, 3, 9, 8, 2]\n",
    "\n",
    "print(6 in my_list)\n",
    "print(5 not in my_list)\n",
    "print(12 in my_list)"
   ]
  },
  {
   "cell_type": "code",
   "execution_count": 103,
   "metadata": {},
   "outputs": [
    {
     "name": "stdout",
     "output_type": "stream",
     "text": [
      "20\n"
     ]
    }
   ],
   "source": [
    "my_list = [2,9,5,1,20,8]\n",
    "besar = my_list[0]\n",
    "\n",
    "for i in range(1,len(my_list)): #dimulai dari 1 karena indeks 0 sudah di besar=my_list[0]\n",
    "    if my_list[i]>besar:\n",
    "        besar=my_list[i]\n",
    "print(besar)"
   ]
  },
  {
   "cell_type": "code",
   "execution_count": 116,
   "metadata": {},
   "outputs": [
    {
     "name": "stdout",
     "output_type": "stream",
     "text": [
      "[0, 1, 4, 9, 16, 25, 36, 49, 64, 81]\n"
     ]
    }
   ],
   "source": [
    "kuadrat = [x ** 2 for x in range(10)]\n",
    "print(kuadrat)"
   ]
  },
  {
   "cell_type": "code",
   "execution_count": 117,
   "metadata": {},
   "outputs": [
    {
     "name": "stdout",
     "output_type": "stream",
     "text": [
      "[1, 2, 4, 8, 16, 32, 64, 128]\n"
     ]
    }
   ],
   "source": [
    "twos = [2 ** i for i in range(8)]\n",
    "print(twos)"
   ]
  },
  {
   "cell_type": "code",
   "execution_count": 119,
   "metadata": {},
   "outputs": [
    {
     "name": "stdout",
     "output_type": "stream",
     "text": [
      "[1, 3, 5, 7, 9]\n"
     ]
    }
   ],
   "source": [
    "num = [1,2,3,4,5,6,7,8,9,10]\n",
    "ganjil = [x for x in num if x % 2 != 0 ]\n",
    "print(ganjil)"
   ]
  },
  {
   "cell_type": "code",
   "execution_count": null,
   "metadata": {},
   "outputs": [],
   "source": []
  },
  {
   "cell_type": "code",
   "execution_count": 121,
   "metadata": {},
   "outputs": [
    {
     "name": "stdout",
     "output_type": "stream",
     "text": [
      "#\n",
      "#\n"
     ]
    }
   ],
   "source": [
    "for i in range(-1,1):\n",
    "    print(\"#\")"
   ]
  },
  {
   "cell_type": "code",
   "execution_count": 122,
   "metadata": {},
   "outputs": [
    {
     "name": "stdout",
     "output_type": "stream",
     "text": [
      "*\n",
      "*\n"
     ]
    }
   ],
   "source": [
    "i=2\n",
    "while i>=0:\n",
    "    print(\"*\")\n",
    "    i-=2"
   ]
  },
  {
   "cell_type": "code",
   "execution_count": null,
   "metadata": {},
   "outputs": [],
   "source": []
  }
 ],
 "metadata": {
  "kernelspec": {
   "display_name": "Python 3",
   "language": "python",
   "name": "python3"
  },
  "language_info": {
   "codemirror_mode": {
    "name": "ipython",
    "version": 3
   },
   "file_extension": ".py",
   "mimetype": "text/x-python",
   "name": "python",
   "nbconvert_exporter": "python",
   "pygments_lexer": "ipython3",
   "version": "3.7.1"
  }
 },
 "nbformat": 4,
 "nbformat_minor": 2
}
