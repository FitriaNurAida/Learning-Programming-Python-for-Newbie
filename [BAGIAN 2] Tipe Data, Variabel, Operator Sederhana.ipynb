{
 "cells": [
  {
   "cell_type": "markdown",
   "metadata": {},
   "source": [
    "# BAGIAN 2"
   ]
  },
  {
   "cell_type": "markdown",
   "metadata": {},
   "source": [
    "## Tipe Data, Variabel, Operator Sederhana"
   ]
  },
  {
   "cell_type": "markdown",
   "metadata": {},
   "source": [
    "### Fungsi print()"
   ]
  },
  {
   "cell_type": "markdown",
   "metadata": {},
   "source": [
    "Fungsi print() digunakan untuk menampilkan suatu hasil atau tulisan. Setelah fungsi gunakan tanda kurung (). String/text diikuti oleh tanda \" \" atau ' '."
   ]
  },
  {
   "cell_type": "code",
   "execution_count": 1,
   "metadata": {},
   "outputs": [
    {
     "name": "stdout",
     "output_type": "stream",
     "text": [
      "Hello World!\n"
     ]
    }
   ],
   "source": [
    "print(\"Hello World!\")"
   ]
  },
  {
   "cell_type": "code",
   "execution_count": 2,
   "metadata": {},
   "outputs": [
    {
     "name": "stdout",
     "output_type": "stream",
     "text": [
      "Hello, Python!\n"
     ]
    }
   ],
   "source": [
    "print('Hello, Python!')"
   ]
  },
  {
   "cell_type": "code",
   "execution_count": 8,
   "metadata": {},
   "outputs": [
    {
     "name": "stdout",
     "output_type": "stream",
     "text": [
      "Siapa kamu? kenalan dong.\n",
      "Aku siapa? hayo siapa.\n"
     ]
    }
   ],
   "source": [
    "print(\"Siapa kamu? kenalan dong.\")\n",
    "print(\"Aku siapa? hayo siapa.\")"
   ]
  },
  {
   "cell_type": "code",
   "execution_count": 9,
   "metadata": {},
   "outputs": [
    {
     "name": "stdout",
     "output_type": "stream",
     "text": [
      "Siapa kamu? kenalan dong.\n",
      "\n",
      "Aku siapa? hayo siapa.\n"
     ]
    }
   ],
   "source": [
    "print(\"Siapa kamu? kenalan dong.\")\n",
    "print() #memberikan hasil baris kosong\n",
    "print(\"Aku siapa? hayo siapa.\")"
   ]
  },
  {
   "cell_type": "code",
   "execution_count": 10,
   "metadata": {},
   "outputs": [
    {
     "name": "stdout",
     "output_type": "stream",
     "text": [
      "Siapa kamu?\n",
      "kenalan dong.\n",
      "\n",
      "Aku siapa?\n",
      "hayo siapa.\n"
     ]
    }
   ],
   "source": [
    "print(\"Siapa kamu?\\nkenalan dong.\")\n",
    "print()\n",
    "print(\"Aku siapa?\\nhayo siapa.\")\n",
    "#Newline character (\\n) memberikan perintah agar dimulai baris baru"
   ]
  },
  {
   "cell_type": "code",
   "execution_count": 9,
   "metadata": {},
   "outputs": [
    {
     "name": "stdout",
     "output_type": "stream",
     "text": [
      "The itsy bitsy spider climbed up the waterspout.\n"
     ]
    }
   ],
   "source": [
    "print(\"The itsy bitsy spider\" , \"climbed up\" , \"the waterspout.\")"
   ]
  },
  {
   "cell_type": "code",
   "execution_count": 10,
   "metadata": {},
   "outputs": [
    {
     "name": "stdout",
     "output_type": "stream",
     "text": [
      "My name is Python. Monty Python.\n"
     ]
    }
   ],
   "source": [
    "print(\"My name is\", \"Python.\", end=\" \")\n",
    "print(\"Monty Python.\")"
   ]
  },
  {
   "cell_type": "code",
   "execution_count": 11,
   "metadata": {},
   "outputs": [
    {
     "name": "stdout",
     "output_type": "stream",
     "text": [
      "ayo-kita-belajar-operasi-Python.\n"
     ]
    }
   ],
   "source": [
    "print(\"ayo\", \"kita\", \"belajar\", \"operasi\", \"Python.\", sep=\"-\")"
   ]
  },
  {
   "cell_type": "code",
   "execution_count": 12,
   "metadata": {},
   "outputs": [
    {
     "name": "stdout",
     "output_type": "stream",
     "text": [
      "ayo_kita_belajar*operasi*Python.*\n",
      "The End\n"
     ]
    }
   ],
   "source": [
    "print(\"ayo\", \"kita\", \"belajar\", sep=\"_\", end=\"*\")\n",
    "print(\"operasi\", \"Python.\", sep=\"*\", end=\"*\\n\")\n",
    "print(\"The End\")"
   ]
  },
  {
   "cell_type": "code",
   "execution_count": 13,
   "metadata": {},
   "outputs": [
    {
     "name": "stdout",
     "output_type": "stream",
     "text": [
      "belajar***pemograman***di...Python\n"
     ]
    }
   ],
   "source": [
    "print(\"belajar\",\"pemograman\",\"di\", sep=\"***\", end=\"...\")\n",
    "print(\"Python\")"
   ]
  },
  {
   "cell_type": "code",
   "execution_count": 9,
   "metadata": {},
   "outputs": [
    {
     "name": "stdout",
     "output_type": "stream",
     "text": [
      "    *\n",
      "   * *\n",
      "  *   *\n",
      " *     *\n",
      "***   ***\n",
      "  *   *\n",
      "  *   *\n",
      "  *****\n",
      "\n"
     ]
    }
   ],
   "source": [
    "print(\"    *\\n   * *\\n  *   *\\n *     *\\n***   ***\\n  *   *\\n  *   *\\n  *****\\n\")"
   ]
  },
  {
   "cell_type": "markdown",
   "metadata": {},
   "source": [
    "> tanda # merupakan tanda komentar (comment), digunakan untuk memberi catatan dan tidak muncul di output"
   ]
  },
  {
   "cell_type": "markdown",
   "metadata": {},
   "source": [
    "### Tipe Data"
   ]
  },
  {
   "cell_type": "markdown",
   "metadata": {},
   "source": [
    "- Integer          : bilangan bulat (..., -2, -1, 0, 1, 2,...)\n",
    "- Floating-point   : memuat bilangan desimal atau bialngan kontinyu (2.5, 3.1, ...)\n",
    "- String           : teks/tulisan\n",
    "- Boolean          : hanya terdiri dari True dan False, bisa disimbolkan 1 dan 0"
   ]
  },
  {
   "cell_type": "code",
   "execution_count": 3,
   "metadata": {},
   "outputs": [
    {
     "data": {
      "text/plain": [
       "300000000.0"
      ]
     },
     "execution_count": 3,
     "metadata": {},
     "output_type": "execute_result"
    }
   ],
   "source": [
    "3E8 #float karena mengandung desimal"
   ]
  },
  {
   "cell_type": "code",
   "execution_count": 4,
   "metadata": {},
   "outputs": [
    {
     "data": {
      "text/plain": [
       "0.00662"
      ]
     },
     "execution_count": 4,
     "metadata": {},
     "output_type": "execute_result"
    }
   ],
   "source": [
    "6.62E-3"
   ]
  },
  {
   "cell_type": "code",
   "execution_count": 5,
   "metadata": {},
   "outputs": [
    {
     "name": "stdout",
     "output_type": "stream",
     "text": [
      "I'am\n",
      "I'am\n",
      "\"\"learning\"\"\n",
      "\"\"\"Python\"\"\"\n"
     ]
    }
   ],
   "source": [
    "print('I\\'am')\n",
    "print(\"I'am\")\n",
    "print(\"\\\"\\\"learning\\\"\\\"\")\n",
    "print(\"\\\"\\\"\\\"Python\\\"\\\"\\\"\")"
   ]
  },
  {
   "cell_type": "markdown",
   "metadata": {},
   "source": [
    "### Operator Sederhana"
   ]
  },
  {
   "cell_type": "code",
   "execution_count": 14,
   "metadata": {},
   "outputs": [
    {
     "data": {
      "text/plain": [
       "11"
      ]
     },
     "execution_count": 14,
     "metadata": {},
     "output_type": "execute_result"
    }
   ],
   "source": [
    "9+2 #addition"
   ]
  },
  {
   "cell_type": "code",
   "execution_count": 15,
   "metadata": {},
   "outputs": [
    {
     "data": {
      "text/plain": [
       "7"
      ]
     },
     "execution_count": 15,
     "metadata": {},
     "output_type": "execute_result"
    }
   ],
   "source": [
    "9-2 #subtraction"
   ]
  },
  {
   "cell_type": "code",
   "execution_count": 16,
   "metadata": {},
   "outputs": [
    {
     "data": {
      "text/plain": [
       "18"
      ]
     },
     "execution_count": 16,
     "metadata": {},
     "output_type": "execute_result"
    }
   ],
   "source": [
    "9*2 #multiplication"
   ]
  },
  {
   "cell_type": "code",
   "execution_count": 17,
   "metadata": {},
   "outputs": [
    {
     "data": {
      "text/plain": [
       "4.5"
      ]
     },
     "execution_count": 17,
     "metadata": {},
     "output_type": "execute_result"
    }
   ],
   "source": [
    "9/2 #classic division"
   ]
  },
  {
   "cell_type": "code",
   "execution_count": 23,
   "metadata": {},
   "outputs": [
    {
     "name": "stdout",
     "output_type": "stream",
     "text": [
      "4\n",
      "4.0\n"
     ]
    }
   ],
   "source": [
    "#floor/integer division\n",
    "print(9//2) #pembulatan kebawah menghasilkan integer\n",
    "print(9.5//2) #pembulatan kebawah menghasilkan float"
   ]
  },
  {
   "cell_type": "code",
   "execution_count": 29,
   "metadata": {},
   "outputs": [
    {
     "name": "stdout",
     "output_type": "stream",
     "text": [
      "81\n",
      "81.0\n",
      "81.0\n",
      "81.0\n"
     ]
    }
   ],
   "source": [
    "#exponentiation\n",
    "print(9**2) \n",
    "print(9.**2.)\n",
    "print(9**2.)\n",
    "print(9.**2)"
   ]
  },
  {
   "cell_type": "code",
   "execution_count": 30,
   "metadata": {},
   "outputs": [
    {
     "name": "stdout",
     "output_type": "stream",
     "text": [
      "1\n",
      "3\n"
     ]
    }
   ],
   "source": [
    "#Modulus\n",
    "print(9%2) #sisa pembagian\n",
    "print(8%5)"
   ]
  },
  {
   "cell_type": "code",
   "execution_count": 32,
   "metadata": {},
   "outputs": [
    {
     "data": {
      "text/plain": [
       "5"
      ]
     },
     "execution_count": 32,
     "metadata": {},
     "output_type": "execute_result"
    }
   ],
   "source": [
    "2+3-1*9**2%3 #2+3-(1*81%3)"
   ]
  },
  {
   "cell_type": "code",
   "execution_count": 33,
   "metadata": {},
   "outputs": [
    {
     "name": "stdout",
     "output_type": "stream",
     "text": [
      "1\n"
     ]
    }
   ],
   "source": [
    "print(9 % 6 % 2) #operasi dari kiri (9%6)%2"
   ]
  },
  {
   "cell_type": "code",
   "execution_count": 35,
   "metadata": {},
   "outputs": [
    {
     "name": "stdout",
     "output_type": "stream",
     "text": [
      "512\n"
     ]
    }
   ],
   "source": [
    "print(2**3**2) #operasi dari kanan 2**(3**2)"
   ]
  },
  {
   "cell_type": "markdown",
   "metadata": {},
   "source": [
    "### Variabel"
   ]
  },
  {
   "cell_type": "markdown",
   "metadata": {},
   "source": [
    "- kombinasi dari huruf, angka, garis bawah (underscore)  \n",
    "- selalu diawali dengan huruf\n",
    "- Jangan : diawali dengan angka, merupakan kata kunci (keyword), menggunakan spasi "
   ]
  },
  {
   "cell_type": "code",
   "execution_count": 43,
   "metadata": {},
   "outputs": [],
   "source": [
    "tinggi_1 = 155\n",
    "tinggi_2 = 170"
   ]
  },
  {
   "cell_type": "code",
   "execution_count": 39,
   "metadata": {},
   "outputs": [],
   "source": [
    "berat_1 = 45\n",
    "berat_2 = 86"
   ]
  },
  {
   "cell_type": "code",
   "execution_count": 41,
   "metadata": {},
   "outputs": [
    {
     "name": "stdout",
     "output_type": "stream",
     "text": [
      "155 170\n",
      "45 86\n"
     ]
    }
   ],
   "source": [
    "print(tinggi_1,tinggi_2)\n",
    "print(berat_1, berat_2)"
   ]
  },
  {
   "cell_type": "code",
   "execution_count": 51,
   "metadata": {},
   "outputs": [
    {
     "name": "stdout",
     "output_type": "stream",
     "text": [
      "berapa tinggimu? -> 159\n",
      "berapa beratmu? ->  56\n"
     ]
    }
   ],
   "source": [
    "tinggi = \"159\"\n",
    "print(\"berapa tinggimu? -> \" + tinggi) #tinggi harus string\n",
    "berat = 56\n",
    "print(\"berapa beratmu? -> \",berat) #berat numerik"
   ]
  },
  {
   "cell_type": "code",
   "execution_count": 47,
   "metadata": {},
   "outputs": [
    {
     "name": "stdout",
     "output_type": "stream",
     "text": [
      "3\n"
     ]
    }
   ],
   "source": [
    "t1 = 1\n",
    "t1 = 2\n",
    "t1 = t1+1 #t1 yang akan dimasukkan adalah t1 terakhir yaitu 2 \n",
    "print(t1)"
   ]
  },
  {
   "cell_type": "code",
   "execution_count": 82,
   "metadata": {},
   "outputs": [
    {
     "name": "stdout",
     "output_type": "stream",
     "text": [
      "2\n",
      "3\n",
      "4\n"
     ]
    }
   ],
   "source": [
    "var = 2\n",
    "print(var)\n",
    "\n",
    "var = 3\n",
    "print(var)\n",
    "\n",
    "var += 1\n",
    "print(var)"
   ]
  },
  {
   "cell_type": "code",
   "execution_count": 84,
   "metadata": {},
   "outputs": [
    {
     "name": "stdout",
     "output_type": "stream",
     "text": [
      "4\n",
      "4\n",
      "4\n"
     ]
    }
   ],
   "source": [
    "var = 2\n",
    "var = 3 \n",
    "var += 1 #var = 3+1=4\n",
    "print(var)\n",
    "print(var)\n",
    "print(var)"
   ]
  },
  {
   "cell_type": "code",
   "execution_count": 1,
   "metadata": {},
   "outputs": [
    {
     "name": "stdout",
     "output_type": "stream",
     "text": [
      "nilai x:  1\n",
      "nilai y:  2\n",
      "nilai z:  3\n"
     ]
    }
   ],
   "source": [
    "x, y, z = 1, 2, 3\n",
    "print(\"nilai x: \",x)\n",
    "print(\"nilai y: \",y)\n",
    "print(\"nilai z: \",z)"
   ]
  },
  {
   "cell_type": "markdown",
   "metadata": {},
   "source": [
    "### Shorcut Operators"
   ]
  },
  {
   "cell_type": "code",
   "execution_count": 76,
   "metadata": {},
   "outputs": [],
   "source": [
    "i = 2\n",
    "j = 5\n",
    "k = 8\n",
    "l = 6\n",
    "m = 10"
   ]
  },
  {
   "cell_type": "code",
   "execution_count": 77,
   "metadata": {},
   "outputs": [
    {
     "name": "stdout",
     "output_type": "stream",
     "text": [
      "10.0\n"
     ]
    }
   ],
   "source": [
    "# i = i+4*2. -> i=10.\n",
    "i += 4*2.\n",
    "print(i)"
   ]
  },
  {
   "cell_type": "code",
   "execution_count": 78,
   "metadata": {},
   "outputs": [
    {
     "name": "stdout",
     "output_type": "stream",
     "text": [
      "4.0\n"
     ]
    }
   ],
   "source": [
    "# k = k/2 -> k=4\n",
    "k /= 2\n",
    "print(k)"
   ]
  },
  {
   "cell_type": "code",
   "execution_count": 79,
   "metadata": {},
   "outputs": [
    {
     "name": "stdout",
     "output_type": "stream",
     "text": [
      "2\n"
     ]
    }
   ],
   "source": [
    "# j = j%3 -> j=2\n",
    "j %= 3\n",
    "print(j)"
   ]
  },
  {
   "cell_type": "code",
   "execution_count": 80,
   "metadata": {},
   "outputs": [
    {
     "name": "stdout",
     "output_type": "stream",
     "text": [
      "2\n"
     ]
    }
   ],
   "source": [
    "# l = l-4 -> l=2\n",
    "l -= 4\n",
    "print(l)"
   ]
  },
  {
   "cell_type": "code",
   "execution_count": 81,
   "metadata": {},
   "outputs": [
    {
     "name": "stdout",
     "output_type": "stream",
     "text": [
      "100\n"
     ]
    }
   ],
   "source": [
    "# m = m**2 -> m=100\n",
    "m **= 2\n",
    "print(m)"
   ]
  },
  {
   "cell_type": "markdown",
   "metadata": {},
   "source": [
    "### Fungsi input()"
   ]
  },
  {
   "cell_type": "code",
   "execution_count": 3,
   "metadata": {},
   "outputs": [
    {
     "name": "stdout",
     "output_type": "stream",
     "text": [
      "Namamu siapa? :fitria\n",
      "Namaku fitria\n"
     ]
    }
   ],
   "source": [
    "nama = input(\"Namamu siapa? :\") #hasil fungsi input() ini berupa string\n",
    "print(\"Namaku\",nama)"
   ]
  },
  {
   "cell_type": "code",
   "execution_count": 6,
   "metadata": {},
   "outputs": [
    {
     "name": "stdout",
     "output_type": "stream",
     "text": [
      "Nilai IPS semester 1 : 3.6\n",
      "Nilai IPS semester 2 : 4\n",
      "Jadi nilai IPK ku adalah 3.8\n"
     ]
    }
   ],
   "source": [
    "ips_1 = float(input(\"Nilai IPS semester 1 : \"))\n",
    "ips_2 = float(input(\"Nilai IPS semester 2 : \"))\n",
    "ipk = (ips_1+ips_2)/2.0 #agar dapat dilakakukan operasi aritmatika, variabel harus bersifat numerik\n",
    "print(\"Jadi nilai IPK ku adalah\", ipk)"
   ]
  },
  {
   "cell_type": "code",
   "execution_count": 24,
   "metadata": {},
   "outputs": [
    {
     "name": "stdout",
     "output_type": "stream",
     "text": [
      "Enter value for x: 10\n",
      "y = 0.09901951266867294\n"
     ]
    }
   ],
   "source": [
    "x = float(input(\"Enter value for x: \"))\n",
    "y =  1/(x+1/(x+1/(x+1/x)))\n",
    "print(\"y =\", y)"
   ]
  },
  {
   "cell_type": "code",
   "execution_count": 1,
   "metadata": {},
   "outputs": [
    {
     "name": "stdout",
     "output_type": "stream",
     "text": [
      "Starting time (hours): 23\n",
      "Starting time (minutes): 58\n",
      "Event duration (minutes): 642\n",
      "sekarang pukul =>  10 : 40\n"
     ]
    }
   ],
   "source": [
    "jam = int(input(\"Starting time (hours): \"))\n",
    "menit = int(input(\"Starting time (minutes): \"))\n",
    "durasi = int(input(\"Event duration (minutes): \"))\n",
    "print(\"sekarang pukul => \", (((jam*60)+menit+durasi)//60)%24,\":\",((jam*60)+menit+durasi)%60 )"
   ]
  },
  {
   "cell_type": "markdown",
   "metadata": {},
   "source": [
    "> - string() untuk mengonversi angka menjadi teks\n",
    "- float() untuk mengonversi format string menjadi float\n",
    "- int() untuk mengonversi format string/float menjadi integer"
   ]
  },
  {
   "cell_type": "markdown",
   "metadata": {},
   "source": [
    "### Operator String"
   ]
  },
  {
   "cell_type": "markdown",
   "metadata": {},
   "source": [
    "dapat menggunakan operator aritmatika (+) dan (*)"
   ]
  },
  {
   "cell_type": "code",
   "execution_count": 8,
   "metadata": {},
   "outputs": [
    {
     "name": "stdout",
     "output_type": "stream",
     "text": [
      "Nama pertama :fitria nur\n",
      "Nama terakhir :aida\n",
      "Namaku adalah fitria nur aida\n"
     ]
    }
   ],
   "source": [
    "#Concatenation operator (+)\n",
    "first = input(\"Nama pertama :\")\n",
    "last = input (\"Nama terakhir :\")\n",
    "print(\"Namaku adalah \" + first + \" \" + last)"
   ]
  },
  {
   "cell_type": "code",
   "execution_count": 14,
   "metadata": {},
   "outputs": [
    {
     "name": "stdout",
     "output_type": "stream",
     "text": [
      "heiheihei\n",
      "youyouyou\n",
      "1111111111\n"
     ]
    }
   ],
   "source": [
    "#Replication operator (*)\n",
    "# string*number = number*string\n",
    "print(\"hei\"*3)\n",
    "print(3*\"you\")\n",
    "print(10*\"1\")"
   ]
  },
  {
   "cell_type": "code",
   "execution_count": 17,
   "metadata": {},
   "outputs": [
    {
     "name": "stdout",
     "output_type": "stream",
     "text": [
      "+----------+\n",
      "|          |\n",
      "|          |\n",
      "|          |\n",
      "|          |\n",
      "|          |\n",
      "+----------+\n"
     ]
    }
   ],
   "source": [
    "print(\"+\" + 10 * \"-\" + \"+\")\n",
    "print((\"|\" + \" \" * 10 + \"|\\n\") * 5, end=\"\")\n",
    "print(\"+\" + 10 * \"-\" + \"+\")"
   ]
  },
  {
   "cell_type": "code",
   "execution_count": 18,
   "metadata": {},
   "outputs": [
    {
     "name": "stdout",
     "output_type": "stream",
     "text": [
      "    *\n",
      "   * *\n",
      "  *   *\n",
      " *     *\n",
      "***   ***\n",
      "  *   *\n",
      "  *   *\n",
      "  *****\n",
      "    *\n",
      "   * *\n",
      "  *   *\n",
      " *     *\n",
      "***   ***\n",
      "  *   *\n",
      "  *   *\n",
      "  *****\n",
      "\n"
     ]
    }
   ],
   "source": [
    "print(\"    *\\n   * *\\n  *   *\\n *     *\\n***   ***\\n  *   *\\n  *   *\\n  *****\\n\"*2)"
   ]
  },
  {
   "cell_type": "code",
   "execution_count": null,
   "metadata": {},
   "outputs": [],
   "source": []
  }
 ],
 "metadata": {
  "kernelspec": {
   "display_name": "Python 3",
   "language": "python",
   "name": "python3"
  },
  "language_info": {
   "codemirror_mode": {
    "name": "ipython",
    "version": 3
   },
   "file_extension": ".py",
   "mimetype": "text/x-python",
   "name": "python",
   "nbconvert_exporter": "python",
   "pygments_lexer": "ipython3",
   "version": "3.7.1"
  }
 },
 "nbformat": 4,
 "nbformat_minor": 2
}
